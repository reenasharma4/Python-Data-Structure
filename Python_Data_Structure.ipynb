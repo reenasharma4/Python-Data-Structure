{
  "nbformat": 4,
  "nbformat_minor": 0,
  "metadata": {
    "colab": {
      "provenance": []
    },
    "kernelspec": {
      "name": "python3",
      "display_name": "Python 3"
    },
    "language_info": {
      "name": "python"
    }
  },
  "cells": [
    {
      "cell_type": "markdown",
      "source": [
        "#Python Data Structure"
      ],
      "metadata": {
        "id": "dDWIDDeSQrq0"
      }
    },
    {
      "cell_type": "markdown",
      "source": [
        "#1. What are data structures, and why are they important?\n",
        "  - Data structure is the crucial part of the data science and the programming\n",
        "   language because it allows us to organize and store the data in computer so that we can use it efficiently and easily access it. It used in many different applications, like operating systems, database, websites, and machine learning.\n",
        "\n",
        "#2. Difference between mutable and immutable data types with examples.\n",
        "  - Mutable means that we can change the data after the creation.\n",
        "     Example:    \n",
        "                my_list = [1, 2, 3]\n",
        "                my_list[0] = 10  #The list is now changed\n",
        "\n",
        "  - Immutable means we can't change the data after the creation.\n",
        "     Example:\n",
        "                my_string = \"good\"\n",
        "                my_string[0] = \"G\"  #This will cause an error\n",
        "\n",
        "#3. Main differences between lists and tuples in Python?\n",
        "   - Features of list and tuples are:\n",
        "     1. List can be changeable whereas tuples can't be changeable.\n",
        "     2. List uses the square brackets [] Syntax whereas tuplese uses the\n",
        "        parentheses () syntax.\n",
        "     3. List speed is slower and tuple speed is faster.\n",
        "     4. List are changing data case and tuple are fixed, unchanging data case.\n",
        "\n",
        "#4. Describe how dictionaries store data.\n",
        "   - Dictionaries are used to store the data key and values in pairs. It is\n",
        "     changable but do not allow for duplicate like the phone number and name.\n",
        "     Example:\n",
        "                person = {\"name\": \"Alice\", \"age\": 25}\n",
        "                #\"name\" is the key, \"Alice\" is the value\n",
        "\n",
        "#5. Why might you use a set instead of a list in Python?\n",
        "   - Sets helps us to remove the duplicates automatically and it is faster for\n",
        "     checking if something is present.\n",
        "     Example:\n",
        "               numbers = {1, 2, 3, 2}\n",
        "               #The set will be {1, 2, 3} because duplicates are not allowed\n",
        "\n",
        "#6. What is a string in Python, and how is it different from a list?\n",
        "   - String is sequence of characters between single or double quotes like\n",
        "     \"hello\" whereas list is a sequence of items, it could be anything (an integer, a float, a string, etc.).\n",
        "     1. Strings are immutable (you can’t change the individual letters).\n",
        "     2. Lists are mutable (you can change the items).\n",
        "\n",
        "#7.  How do tuples ensure data integrity in Python?\n",
        " - Tuples are immutable, that ensures that their values or content remains constant and can't be changed or modified. This protects data from being accidentally modified.\n",
        "\n",
        "#8. What is a hash table, and how does it relate to dictionaries in Python?\n",
        "   - Hash table is data structure that stores the key and values in a pairs using a special functions called as hash table. In Python, dictionaries are built on hash tables for fast lookups.\n",
        "\n",
        "#9.  Can lists contain different data types in Python?\n",
        "  - Yes! A list can have numbers, strings, or other lists all together:\n",
        "              my_list = [1, \"hello\", [3, 4]]\n",
        "\n",
        "#10. Explain why strings are immutable in Python.\n",
        "  - Strings are immutable in Python because once the object is created, we can't change it and it is used to make them faster, safer, and easier to manage when used in multiple places.\n",
        "\n",
        "#11. What advantages do dictionaries offer over lists for certain tasks?\n",
        "   - Dictionaries offers a advantage over list for task that requires a searching for a specific data like searching for a large database or finding a person's name by ID number is faster with a dictionary. Dictionaries are faster than a list becuase they use the hash tables for lookup.\n",
        "\n",
        "#12. Describe a scenario where using a tuple would be preferable over a list.\n",
        "   - Tuples are safe from any accidental modification when making a code. If a data requires not to change or modified, then tuples are good to put instead of list, like coordinates:\n",
        "                  coordinates = (10, 20)\n",
        "\n",
        "#13. How do sets handle duplicate values in Python?\n",
        "   - The sets automatically removes the duplicate values.\n",
        "     Example:\n",
        "                 set_example = {1, 2, 2, 3}  #Becomes {1, 2, 3}\n",
        "\n",
        "#14.  How does the “in” keyword work differently for lists and dictionaries?\n",
        "    - In lists, it checks if a value is present:\n",
        "                1 in [1, 2, 3]  #True\n",
        "    - In dictionaries, it checks for the key, not the value:\n",
        "                \"name\" in {\"name\": \"Alice\"}  #True\n",
        "\n",
        "#15. Can you modify the elements of a tuple? Explain why or why not.\n",
        "   - No, Tuples are immutable. Once, it is created, we can't modify or change the values of a tuples to protect data integrity.\n",
        "\n",
        "#16. What is a nested dictionary, and give an example of its use case?\n",
        "   - A nested dictionary is a dictionary that contains other dictionaries. It is the way to organize or to store the complex data into multiple layers like student records.\n",
        "   Example:\n",
        "              student = {\"name\": \"John\", \"grades\": {\"math\": 90, \"science\": 85}}\n",
        "\n",
        "#17. Describe the time complexity of accessing elements in a dictionary.\n",
        "   - Accessing an element by key in a dictionary has O(1) time complexity, meaning it is very fast. However, in the worst case, it can be O(n) if there are many collisions.\n",
        "\n",
        "#18. In what situations are lists preferred over dictionaries?\n",
        "   - List are best when you need to store large number of data in a sequence order and access them by their position.\n",
        "\n",
        "#19. Why are dictionaries considered unordered, and how does that affect data retrieval?\n",
        "   - Dictionaries are considered as unordered because it stores a large number of data and do'not follow the sequence. It affect in data retrieval by its speed, it is faster and fetch the data by its key quickly whereas the list follow the sequence.\n",
        "\n",
        "#20.Explain the difference between a list and a dictionary in terms of data retrieval.\n",
        "   - List retrieval is done by using a index/position.\n",
        "     Example: list[0] gets the first item.\n",
        "\n",
        "   - Dictionaries retrieval is done by using a key.\n",
        "     Example: dict(\"name\") is gets associated with the key \"name\".\n",
        "  "
      ],
      "metadata": {
        "id": "jUngDnEFQv4V"
      }
    },
    {
      "cell_type": "code",
      "source": [
        "#1. Write a code to create a string with your name and print it.\n",
        "name=\"Reena\"\n",
        "print(name)"
      ],
      "metadata": {
        "colab": {
          "base_uri": "https://localhost:8080/"
        },
        "id": "7zbYewwhUFBY",
        "outputId": "7fa5d852-9499-413a-c3f4-a652b7f6e93d"
      },
      "execution_count": 1,
      "outputs": [
        {
          "output_type": "stream",
          "name": "stdout",
          "text": [
            "Reena\n"
          ]
        }
      ]
    },
    {
      "cell_type": "code",
      "source": [
        "#2. Write a code to find the length of the string \"Hello World\".\n",
        "length=(len(\"Hello World\"))\n",
        "print(length)"
      ],
      "metadata": {
        "colab": {
          "base_uri": "https://localhost:8080/"
        },
        "id": "sZR3IHtATWw_",
        "outputId": "b41e3510-ef61-4e72-cfb4-1e5b12b8c746"
      },
      "execution_count": 6,
      "outputs": [
        {
          "output_type": "stream",
          "name": "stdout",
          "text": [
            "11\n"
          ]
        }
      ]
    },
    {
      "cell_type": "code",
      "source": [
        "#3. Write a code to slice the first 3 characters from the string \"Python Programming\".\n",
        "s=\"Python Programming\"\n",
        "s2=s[:3]\n",
        "print(s2)"
      ],
      "metadata": {
        "colab": {
          "base_uri": "https://localhost:8080/"
        },
        "id": "NCuZef8xyC-I",
        "outputId": "bd67509f-8413-42fc-e6d6-e91992bf2742"
      },
      "execution_count": 7,
      "outputs": [
        {
          "output_type": "stream",
          "name": "stdout",
          "text": [
            "Pyt\n"
          ]
        }
      ]
    },
    {
      "cell_type": "code",
      "source": [
        "#4. Write a code to convert the string \"hello\" to uppercase.\n",
        "s=\"hello\"\n",
        "s2=s.upper()\n",
        "print(s2)"
      ],
      "metadata": {
        "colab": {
          "base_uri": "https://localhost:8080/"
        },
        "id": "l8iDGGRq0OcH",
        "outputId": "ffb51002-1ead-4a5e-c344-46f992966a6d"
      },
      "execution_count": 8,
      "outputs": [
        {
          "output_type": "stream",
          "name": "stdout",
          "text": [
            "HELLO\n"
          ]
        }
      ]
    },
    {
      "cell_type": "code",
      "source": [
        "#5. Write a code to replace the word \"apple\" with \"orange\" in the string \"I like apple\".\n",
        "s=\"I like apple\"\n",
        "s2=s.replace(\"apple\", \"orange\")\n",
        "print(s2)"
      ],
      "metadata": {
        "colab": {
          "base_uri": "https://localhost:8080/"
        },
        "id": "uyq_HYT80oY7",
        "outputId": "b676fa20-e193-4cc2-c6da-218f592bd5d6"
      },
      "execution_count": 9,
      "outputs": [
        {
          "output_type": "stream",
          "name": "stdout",
          "text": [
            "I like orange\n"
          ]
        }
      ]
    },
    {
      "cell_type": "code",
      "source": [
        "#6. Write a code to create a list with numbers 1 to 5 and print it.\n",
        "numbers=[1, 2, 3, 4, 5]\n",
        "print(numbers)"
      ],
      "metadata": {
        "colab": {
          "base_uri": "https://localhost:8080/"
        },
        "id": "fdwUTKBh1IdF",
        "outputId": "6643cca9-a836-49a4-ecd2-99302652acef"
      },
      "execution_count": 11,
      "outputs": [
        {
          "output_type": "stream",
          "name": "stdout",
          "text": [
            "[1, 2, 3, 4, 5]\n"
          ]
        }
      ]
    },
    {
      "cell_type": "code",
      "source": [
        "#7. Write a code to append the number 10 to the list [1, 2, 3, 4].\n",
        "s=[1, 2, 3, 4]\n",
        "s.append(10)\n",
        "print(s)"
      ],
      "metadata": {
        "colab": {
          "base_uri": "https://localhost:8080/"
        },
        "id": "2V56nFau1gMm",
        "outputId": "a7198d26-b4fa-44e4-cbad-fb6be2533ea7"
      },
      "execution_count": 25,
      "outputs": [
        {
          "output_type": "stream",
          "name": "stdout",
          "text": [
            "[1, 2, 3, 4, 10]\n"
          ]
        }
      ]
    },
    {
      "cell_type": "code",
      "source": [
        "#8. Write a code to remove the number 3 from the list [1, 2, 3, 4, 5].\n",
        "s=[1, 2, 3, 4, 5]\n",
        "s.remove(3)\n",
        "print(s)"
      ],
      "metadata": {
        "colab": {
          "base_uri": "https://localhost:8080/"
        },
        "id": "78vUNdzr2nV9",
        "outputId": "930a79f6-b754-4d59-eba4-9a813f24311a"
      },
      "execution_count": 26,
      "outputs": [
        {
          "output_type": "stream",
          "name": "stdout",
          "text": [
            "[1, 2, 4, 5]\n"
          ]
        }
      ]
    },
    {
      "cell_type": "code",
      "source": [
        "#9. Write a code to access the second element in the list ['a', 'b', 'c', 'd'].\n",
        "s=['a', 'b', 'c', 'd']\n",
        "s2=s[1]\n",
        "print(s2)"
      ],
      "metadata": {
        "colab": {
          "base_uri": "https://localhost:8080/"
        },
        "id": "VChGcDTI3LP2",
        "outputId": "3e7cf9aa-458c-4bbd-db42-fd87010ec9ee"
      },
      "execution_count": 27,
      "outputs": [
        {
          "output_type": "stream",
          "name": "stdout",
          "text": [
            "b\n"
          ]
        }
      ]
    },
    {
      "cell_type": "code",
      "source": [
        "#10. Write a code to reverse the list [10, 20, 30, 40, 50].\n",
        "s=[10, 20, 30, 40, 50]\n",
        "s.reverse()\n",
        "print(s)"
      ],
      "metadata": {
        "colab": {
          "base_uri": "https://localhost:8080/"
        },
        "id": "LUmXz23_5_3W",
        "outputId": "35bebc4e-50ff-4281-a19d-53286c6f5ba4"
      },
      "execution_count": 30,
      "outputs": [
        {
          "output_type": "stream",
          "name": "stdout",
          "text": [
            "[50, 40, 30, 20, 10]\n"
          ]
        }
      ]
    },
    {
      "cell_type": "code",
      "source": [
        "#11. Write a code to create a tuple with the elements 10, 20, 30 and print it.\n",
        "s=(10, 20, 30)\n",
        "print(s)"
      ],
      "metadata": {
        "colab": {
          "base_uri": "https://localhost:8080/"
        },
        "id": "_MC51Lw06Tor",
        "outputId": "b8df7abf-c62e-4172-cff5-708fbb542e58"
      },
      "execution_count": 31,
      "outputs": [
        {
          "output_type": "stream",
          "name": "stdout",
          "text": [
            "(10, 20, 30)\n"
          ]
        }
      ]
    },
    {
      "cell_type": "code",
      "source": [
        "#12. Write a code to access the first element of the tuple ('apple', 'banana', 'cherry').\n",
        "s=('apple', 'banana', 'cherry')\n",
        "s2=s[0]\n",
        "print(s2)"
      ],
      "metadata": {
        "colab": {
          "base_uri": "https://localhost:8080/"
        },
        "id": "fpQ4nPFQ6u6_",
        "outputId": "caf08274-5013-4c72-d008-70777dba8b2d"
      },
      "execution_count": 33,
      "outputs": [
        {
          "output_type": "stream",
          "name": "stdout",
          "text": [
            "apple\n"
          ]
        }
      ]
    },
    {
      "cell_type": "code",
      "source": [
        "#13. Write a code to count how many times the number 2 appears in the tuple (1, 2, 3, 2, 4, 2).\n",
        "s=(1, 2, 3, 2, 4, 2)\n",
        "s2=s.count(2)\n",
        "print(s2)"
      ],
      "metadata": {
        "colab": {
          "base_uri": "https://localhost:8080/"
        },
        "id": "gfHJ3o9R7bOa",
        "outputId": "272473f3-0136-4cdc-9080-680a478543b3"
      },
      "execution_count": 36,
      "outputs": [
        {
          "output_type": "stream",
          "name": "stdout",
          "text": [
            "3\n"
          ]
        }
      ]
    },
    {
      "cell_type": "code",
      "source": [
        "#14. Write a code to find the index of the element \"cat\" in the tuple ('dog', 'cat', 'rabbit').\n",
        "s=('dog', 'cat', 'rabbit')\n",
        "s2=s.index(\"cat\")\n",
        "print(s2)"
      ],
      "metadata": {
        "colab": {
          "base_uri": "https://localhost:8080/"
        },
        "id": "Mh1xQQwk76RA",
        "outputId": "3931484a-030c-4e55-f663-db79aaad0151"
      },
      "execution_count": 37,
      "outputs": [
        {
          "output_type": "stream",
          "name": "stdout",
          "text": [
            "1\n"
          ]
        }
      ]
    },
    {
      "cell_type": "code",
      "source": [
        "#15. Write a code to check if the element \"banana\" is in the tuple ('apple', 'orange', 'banana').\n",
        "s=('apple', 'orange', 'banana')\n",
        "s2='banana'in s\n",
        "print(s2)"
      ],
      "metadata": {
        "colab": {
          "base_uri": "https://localhost:8080/"
        },
        "id": "R03VVsHM8QoF",
        "outputId": "972edd07-186b-413d-8f62-058865aaa5aa"
      },
      "execution_count": 38,
      "outputs": [
        {
          "output_type": "stream",
          "name": "stdout",
          "text": [
            "True\n"
          ]
        }
      ]
    },
    {
      "cell_type": "code",
      "source": [
        "#16. Write a code to create a set with the elements 1, 2, 3, 4, 5 and print it.\n",
        "s={1, 2, 3, 4, 5}\n",
        "print(s)"
      ],
      "metadata": {
        "colab": {
          "base_uri": "https://localhost:8080/"
        },
        "id": "5dTAvmqK8q8K",
        "outputId": "038f2dc8-ae6b-4cd3-88dc-812f66f809d9"
      },
      "execution_count": 39,
      "outputs": [
        {
          "output_type": "stream",
          "name": "stdout",
          "text": [
            "{1, 2, 3, 4, 5}\n"
          ]
        }
      ]
    },
    {
      "cell_type": "code",
      "source": [
        "#17. Write a code to add the element 6 to the set {1, 2, 3, 4}.\n",
        "s={1, 2, 3, 4}\n",
        "s.add(6)\n",
        "print(s)"
      ],
      "metadata": {
        "colab": {
          "base_uri": "https://localhost:8080/"
        },
        "id": "Vy_zt4ZM9UZ1",
        "outputId": "18974fce-db5a-4a6c-d475-db455ea4f6e7"
      },
      "execution_count": 42,
      "outputs": [
        {
          "output_type": "stream",
          "name": "stdout",
          "text": [
            "{1, 2, 3, 4, 6}\n"
          ]
        }
      ]
    },
    {
      "cell_type": "code",
      "source": [
        "#18, 19, 20, 21, 22, 23, 24 same repeated question."
      ],
      "metadata": {
        "id": "F6qULzE-9rOr"
      },
      "execution_count": 44,
      "outputs": []
    }
  ]
}